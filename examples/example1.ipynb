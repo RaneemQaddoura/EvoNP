{
  "nbformat": 4,
  "nbformat_minor": 0,
  "metadata": {
    "colab": {
      "name": "example1.ipynb",
      "provenance": [],
      "collapsed_sections": [],
      "authorship_tag": "ABX9TyMpnDuvnpWoZNhzbx8M4vbm",
      "include_colab_link": true
    },
    "kernelspec": {
      "name": "python3",
      "display_name": "Python 3"
    }
  },
  "cells": [
    {
      "cell_type": "markdown",
      "metadata": {
        "id": "view-in-github",
        "colab_type": "text"
      },
      "source": [
        "<a href=\"https://colab.research.google.com/github/RaneemQaddoura/EvoNP/blob/master/examples/example1.ipynb\" target=\"_parent\"><img src=\"https://colab.research.google.com/assets/colab-badge.svg\" alt=\"Open In Colab\"/></a>"
      ]
    },
    {
      "cell_type": "markdown",
      "metadata": {
        "id": "bbev8sVpffLT"
      },
      "source": [
        "<h1>Evolutionary Algorithm with Nearest Point (EvoNP)</h1>\n",
        "An efficient evolutionary algorithm with a nearest neighbor search technique for clustering analysis"
      ]
    },
    {
      "cell_type": "markdown",
      "metadata": {
        "id": "2Y44w4UXfs7a"
      },
      "source": [
        "EvoNP is a clustering algorithm which aims at grouping similar data points to the same cluster and dissimilar data points to different clusters. It is based on the evolution behavior of genetic algorithm and the Nearest Neighbor Search (NNS) technique."
      ]
    },
    {
      "cell_type": "markdown",
      "metadata": {
        "id": "0ua1UYh7fzkt"
      },
      "source": [
        "<h2>Installation</h2>\n",
        "Python 3.xx is required"
      ]
    },
    {
      "cell_type": "markdown",
      "metadata": {
        "id": "TgL28rnPf5HF"
      },
      "source": [
        "<h2>GitHub</h2>"
      ]
    },
    {
      "cell_type": "markdown",
      "metadata": {
        "id": "WOEVo9FZhDHo"
      },
      "source": [
        "Clone the Git repository from GitHub:\n",
        "git clone https://github.com/RaneemQaddoura/EvoNP.git"
      ]
    },
    {
      "cell_type": "code",
      "metadata": {
        "id": "ANoOpW8JhPSz"
      },
      "source": [
        "!git clone https://github.com/RaneemQaddoura/EvoNP.git"
      ],
      "execution_count": null,
      "outputs": []
    },
    {
      "cell_type": "code",
      "metadata": {
        "id": "HB3_nhyLhWr9"
      },
      "source": [
        "# Change working directory\n",
        "import os\n",
        "os.chdir(\"EvoNP/\")"
      ],
      "execution_count": null,
      "outputs": []
    },
    {
      "cell_type": "code",
      "metadata": {
        "id": "bWSrS9cjhfTF"
      },
      "source": [
        "#Install NumPy, SciPy, sklearn, pandas, treelib, and matplotlib\n",
        "!pip install -r requirements.txt"
      ],
      "execution_count": null,
      "outputs": []
    },
    {
      "cell_type": "code",
      "metadata": {
        "id": "-qO4a4XBhj9I"
      },
      "source": [
        "os.chdir(\"src\")\n",
        "import EvoNP\n",
        "from sklearn import metrics\n",
        "from scipy import spatial\n",
        "import numpy as np\n",
        "import os\n",
        "import warnings\n",
        "import statistics as stat\n",
        "import matplotlib.pyplot as plt\n",
        "\n",
        "warnings.simplefilter(action='ignore', category=FutureWarning)\n",
        "warnings.simplefilter(action='ignore', category=RuntimeWarning)\n"
      ],
      "execution_count": null,
      "outputs": []
    },
    {
      "cell_type": "code",
      "metadata": {
        "id": "YnUduC1dh_2z"
      },
      "source": [
        "format = '%m/%d/%y %H:%M:%S'\n",
        "\n",
        "#initializing variables\n",
        "directory = \"../datasets/\" # the directory where the dataset is stored\n",
        "nChromosomes = 20 #Genetic algorithm parameters: Mating pool size\n",
        "nGenerations = 50  # The number of Genetic Algorithm Generations\n",
        "crossoverProbability = 0.8\n",
        "mutationProbability = 0.001\n",
        "runs = 3\n",
        "plot = True\n",
        "\n",
        "dataset_List = [\"VaryDensity.csv\",\"aggregation.csv\"]"
      ],
      "execution_count": null,
      "outputs": []
    },
    {
      "cell_type": "code",
      "metadata": {
        "id": "UtRlwMgTiTXQ",
        "outputId": "4229830f-07ab-428a-8dc9-10e3505518d9",
        "colab": {
          "base_uri": "https://localhost:8080/",
          "height": 920
        }
      },
      "source": [
        "for j in range(len(dataset_List)):\n",
        "    \n",
        "    filename = dataset_List[j] #the dataset file name\n",
        "    \n",
        "    # Read the dataset file and generate the points list and true values\n",
        "    data = np.genfromtxt(directory + filename, delimiter=',')\n",
        "    \n",
        "    nPoints, nValues = data.shape #Number of points and Number of values for each point\n",
        "    nValues = nValues - 1 #Dimension value\n",
        "    k = len(np.unique(data[:,-1]))#k: Number of clusters\n",
        "    points = data[:,:-1] #list of points\n",
        "    labelsTrue = data[:,-1] #List of actual cluster of each points (last field)\n",
        "    \n",
        "    print(\"Dataset: \" +  str(dataset_List[j]))\n",
        "    print(\"k: \" + str(k))\n",
        "    print(\"#points: \" + str(nPoints))\n",
        "          \n",
        "    popSize = (nChromosomes,k) # The population will have nChromosomes chromosome where each chromosome has chromosomeLength genes.\n",
        "    \n",
        "    HS = [0]*runs     \n",
        "    CS = [0]*runs\n",
        "    VM = [0]*runs \n",
        "    AMI = [0]*runs \n",
        "    ARI = [0]*runs\n",
        "    Agg = [0]*runs\n",
        "          \n",
        "    print(\"Runs = \", end = \" \") \n",
        "    for z in range(runs):\n",
        "        print(str(z), end = \" \")\n",
        "        \n",
        "        bestChromosomeInAllGenerations, bestLabelsPredInAllGenerations, bestFitnessInAllGenerations, allBestFitness = EvoNP.run(points, nPoints, k, nChromosomes, nGenerations, crossoverProbability, mutationProbability)\n",
        "            \n",
        "        \n",
        "        \n",
        "        HS[z] = float(\"%0.2f\"%metrics.homogeneity_score(labelsTrue,bestLabelsPredInAllGenerations[bestChromosomeInAllGenerations]))\n",
        "        CS[z] = float(\"%0.2f\"%metrics.completeness_score(labelsTrue,bestLabelsPredInAllGenerations[bestChromosomeInAllGenerations]))\n",
        "        VM[z] = float(\"%0.2f\"%metrics.v_measure_score(labelsTrue,bestLabelsPredInAllGenerations[bestChromosomeInAllGenerations]))\n",
        "        AMI[z] = float(\"%0.2f\"%metrics.adjusted_mutual_info_score(labelsTrue,bestLabelsPredInAllGenerations[bestChromosomeInAllGenerations]))\n",
        "        ARI[z] = float(\"%0.2f\"%metrics.adjusted_rand_score(labelsTrue,bestLabelsPredInAllGenerations[bestChromosomeInAllGenerations]))\n",
        "        Agg[z] = float(\"%0.2f\"%(float(\"%0.2f\"%(HS[z] + CS[z] + VM[z] + AMI[z] + ARI[z])) / 5))\n",
        "     \n",
        "    allBestFitness[:] = [x / runs for x in allBestFitness]\n",
        "\n",
        "    if plot:\n",
        "        # plot fitness progression\n",
        "        allGenerations = [x+1 for x in range(nGenerations)]\n",
        "        plt.plot(allGenerations, allBestFitness)\n",
        "        plt.title(filename[:-4])\n",
        "        plt.xlabel('Generations')\n",
        "        plt.ylabel('Fitness')\n",
        "        plt.grid()\n",
        "        plt.show()\n",
        "        plt.clf()\n",
        "    \n",
        "    \n",
        "    avgHomo = str(float(\"%0.2f\"%(sum(HS) / runs)))\n",
        "    avgComp = str(float(\"%0.2f\"%(sum(CS) / runs)))\n",
        "    avgVmeas = str(float(\"%0.2f\"%(sum(VM) / runs)))\n",
        "    avgAMI = str(float(\"%0.2f\"%(sum(AMI) / runs)))\n",
        "    avgARI = str(float(\"%0.2f\"%(sum(ARI) / runs)))\n",
        "    avgAgg = str(float(\"%0.2f\"%(sum(Agg) / runs)))\n",
        "    \n",
        "    stdHomo = str(float(\"%0.2f\"%stat.stdev(HS)))\n",
        "    stdComp = str(float(\"%0.2f\"%stat.stdev(CS)))\n",
        "    stdVmeas = str(float(\"%0.2f\"%stat.stdev(VM)))\n",
        "    stdAMI = str(float(\"%0.2f\"%stat.stdev(AMI)))\n",
        "    stdARI = str(float(\"%0.2f\"%stat.stdev(ARI)))\n",
        "    stdAgg = str(float(\"%0.2f\"%stat.stdev(Agg)))\n",
        "    \n",
        "    \n",
        "    bestHomo = str(float(\"%0.2f\"%max(HS)))\n",
        "    bestComp = str(float(\"%0.2f\"%max(CS)))\n",
        "    bestVmeas = str(float(\"%0.2f\"%max(VM)))\n",
        "    bestAMI = str(float(\"%0.2f\"%max(AMI)))\n",
        "    bestARI = str(float(\"%0.2f\"%max(ARI)))\n",
        "    bestAgg = str(float(\"%0.2f\"%max(Agg)))\n",
        "    \n",
        "    print()\n",
        "    print(\"\\tHS\\tCS\\tVM\\tAMI\\tARI\\tAgg\")\n",
        "\n",
        "    print(\"avg\\t\" + \n",
        "    avgHomo + \"\\t\" + avgComp + \"\\t\" + avgVmeas + \"\\t\" + \n",
        "    avgAMI + \"\\t\" + avgARI+ \"\\t\" + avgAgg)    \n",
        "    \n",
        "    print(\"std\\t\" + \n",
        "    stdHomo + \"\\t\" + stdComp + \"\\t\" + stdVmeas + \"\\t\" + \n",
        "    stdAMI + \"\\t\" + stdARI + \"\\t\" + stdAgg)\n",
        "    \n",
        "    print(\"best\\t\" + \n",
        "    bestHomo + \"\\t\" + bestComp + \"\\t\" + bestVmeas + \"\\t\" + \n",
        "    bestAMI + \"\\t\" + bestARI + \"\\t\" + bestAgg)\n",
        "    \n",
        "    \n",
        "    print()\n"
      ],
      "execution_count": null,
      "outputs": [
        {
          "output_type": "stream",
          "text": [
            "Dataset: VaryDensity.csv\n",
            "k: 3\n",
            "#points: 150\n",
            "Runs =  0 1 2 "
          ],
          "name": "stdout"
        },
        {
          "output_type": "display_data",
          "data": {
            "image/png": "[encoded data removed]",
            "text/plain": [
              "<Figure size 432x288 with 1 Axes>"
            ]
          },
          "metadata": {
            "tags": [],
            "needs_background": "light"
          }
        },
        {
          "output_type": "stream",
          "text": [
            "\n",
            "\tHS\tCS\tVM\tAMI\tARI\tAgg\n",
            "avg\t0.96\t0.96\t0.96\t0.96\t0.97\t0.96\n",
            "std\t0.01\t0.01\t0.01\t0.01\t0.01\t0.01\n",
            "best\t0.97\t0.97\t0.97\t0.97\t0.98\t0.97\n",
            "\n",
            "Dataset: aggregation.csv\n",
            "k: 7\n",
            "#points: 788\n",
            "Runs =  0 1 2 "
          ],
          "name": "stdout"
        },
        {
          "output_type": "display_data",
          "data": {
            "image/png": "[encoded data removed]",
            "text/plain": [
              "<Figure size 432x288 with 1 Axes>"
            ]
          },
          "metadata": {
            "tags": [],
            "needs_background": "light"
          }
        },
        {
          "output_type": "stream",
          "text": [
            "\n",
            "\tHS\tCS\tVM\tAMI\tARI\tAgg\n",
            "avg\t0.86\t0.85\t0.85\t0.85\t0.75\t0.83\n",
            "std\t0.04\t0.07\t0.05\t0.05\t0.15\t0.07\n",
            "best\t0.91\t0.91\t0.91\t0.91\t0.9\t0.91\n",
            "\n"
          ],
          "name": "stdout"
        }
      ]
    },
    {
      "cell_type": "markdown",
      "metadata": {
        "id": "0SwQruqG-p0u"
      },
      "source": [
        "<h2>Citing EvoNP</h2>\n",
        "Qaddoura, R., Faris, H. & Aljarah, I. An efficient evolutionary algorithm with a nearest neighbor search technique for clustering analysis. J Ambient Intell Human Comput (2020). "
      ]
    }
  ]
}