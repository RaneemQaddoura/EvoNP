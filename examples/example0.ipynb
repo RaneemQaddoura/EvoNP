{
  "nbformat": 4,
  "nbformat_minor": 0,
  "metadata": {
    "colab": {
      "name": "example0.ipynb",
      "provenance": [],
      "collapsed_sections": [],
      "include_colab_link": true
    },
    "kernelspec": {
      "name": "python3",
      "display_name": "Python 3"
    }
  },
  "cells": [
    {
      "cell_type": "markdown",
      "metadata": {
        "id": "view-in-github",
        "colab_type": "text"
      },
      "source": [
        "<a href=\"https://colab.research.google.com/github/RaneemQaddoura/EvoNP/blob/master/examples/example0.ipynb\" target=\"_parent\"><img src=\"https://colab.research.google.com/assets/colab-badge.svg\" alt=\"Open In Colab\"/></a>"
      ]
    },
    {
      "cell_type": "markdown",
      "metadata": {
        "id": "xDHnOXVpdhqM"
      },
      "source": [
        "<h1>Evolutionary Algorithm with Nearest Point (EvoNP)</h1>\n",
        "An efficient evolutionary algorithm with a nearest neighbor search technique for clustering analysis"
      ]
    },
    {
      "cell_type": "markdown",
      "metadata": {
        "id": "Ez_-PBAldmnx"
      },
      "source": [
        "EvoNP is a clustering algorithm which aims at grouping similar data points to the same cluster and dissimilar data points to different clusters. It is based on the evolution behavior of genetic algorithm and the Nearest Neighbor Search (NNS) technique."
      ]
    },
    {
      "cell_type": "markdown",
      "metadata": {
        "id": "X2GG8uYydpYC"
      },
      "source": [
        "<h2>Installation</h2>"
      ]
    },
    {
      "cell_type": "markdown",
      "metadata": {
        "id": "74qavDbAduJM"
      },
      "source": [
        "Python 3.xx is required"
      ]
    },
    {
      "cell_type": "markdown",
      "metadata": {
        "id": "60ih1JvtdxS5"
      },
      "source": [
        "<h2>GitHub</h2>"
      ]
    },
    {
      "cell_type": "markdown",
      "metadata": {
        "id": "NBV9uLU8d0kj"
      },
      "source": [
        "Clone the Git repository from GitHub:\n",
        "git clone https://github.com/RaneemQaddoura/EvoNP.git"
      ]
    },
    {
      "cell_type": "code",
      "metadata": {
        "id": "y9cptk_KxsuG"
      },
      "source": [
        "!git clone https://github.com/RaneemQaddoura/EvoNP.git"
      ],
      "execution_count": null,
      "outputs": []
    },
    {
      "cell_type": "code",
      "metadata": {
        "id": "IXGpBJ2QyaFf"
      },
      "source": [
        "# Change working directory\n",
        "import os\n",
        "os.chdir(\"EvoNP/\")"
      ],
      "execution_count": null,
      "outputs": []
    },
    {
      "cell_type": "code",
      "metadata": {
        "id": "Xb2orhr8yg0N"
      },
      "source": [
        "#Install NumPy, SciPy, sklearn, pandas, treelib, and matplotlib\n",
        "!pip install -r requirements.txt"
      ],
      "execution_count": null,
      "outputs": []
    },
    {
      "cell_type": "code",
      "metadata": {
        "id": "pxI2S08PzFuR"
      },
      "source": [
        "os.chdir(\"src\")"
      ],
      "execution_count": null,
      "outputs": []
    },
    {
      "cell_type": "code",
      "metadata": {
        "id": "quKX4VLgrsk2"
      },
      "source": [
        "import EvoNP\n",
        "from sklearn import metrics\n",
        "import numpy as np\n",
        "import warnings\n",
        "import matplotlib.pyplot as plt\n",
        "\n",
        "warnings.simplefilter(action='ignore', category=FutureWarning)\n",
        "warnings.simplefilter(action='ignore', category=RuntimeWarning)"
      ],
      "execution_count": null,
      "outputs": []
    },
    {
      "cell_type": "code",
      "metadata": {
        "id": "XknvbftizNXM"
      },
      "source": [
        "format = '%m/%d/%y %H:%M:%S'\n",
        "\n",
        "#initializing variables\n",
        "directory = \"../datasets/\" # the directory where the dataset is stored\n",
        "nChromosomes = 20 \n",
        "nGenerations = 50 \n",
        "crossoverProbability = 0.8\n",
        "mutationProbability = 0.001\n",
        "\n",
        "filename = \"aggregation.csv\""
      ],
      "execution_count": null,
      "outputs": []
    },
    {
      "cell_type": "code",
      "metadata": {
        "id": "RkToNhYRzSX3"
      },
      "source": [
        "# Read the dataset file and generate the points list and true values\n",
        "data = np.genfromtxt(directory + filename, delimiter=',')\n",
        "\n",
        "nPoints, nValues = data.shape #Number of points and Number of values for each point\n",
        "nValues = nValues - 1 #Dimension value\n",
        "k = len(np.unique(data[:,-1]))#k: Number of clusters\n",
        "points = data[:,:-1] #list of points\n",
        "labelsTrue = data[:,-1] #List of actual cluster of each points (last field)\n",
        "     \n",
        "popSize = (nChromosomes,k) # The population will have nChromosomes chromosome where each chromosome has chromosomeLength genes.\n"
      ],
      "execution_count": null,
      "outputs": []
    },
    {
      "cell_type": "code",
      "metadata": {
        "id": "I92d34BZn6tR"
      },
      "source": [
        "bestChromosomeInAllGenerations, bestLabelsPredInAllGenerations, bestFitnessInAllGenerations, allBestFitness = EvoNP.run(points, nPoints, k, nChromosomes, nGenerations, crossoverProbability, mutationProbability)"
      ],
      "execution_count": null,
      "outputs": []
    },
    {
      "cell_type": "code",
      "metadata": {
        "id": "TGddoNOhn419",
        "outputId": "3ffbb396-2c1e-45b4-a884-8c346f2ce8bf",
        "colab": {
          "base_uri": "https://localhost:8080/",
          "height": 104
        }
      },
      "source": [
        "print(\"HS: \" + str(float(\"%0.2f\"%metrics.homogeneity_score(labelsTrue,bestLabelsPredInAllGenerations[bestChromosomeInAllGenerations]))))\n",
        "print(\"CS: \" + str(float(\"%0.2f\"%metrics.completeness_score(labelsTrue,bestLabelsPredInAllGenerations[bestChromosomeInAllGenerations]))))\n",
        "print(\"VM: \" + str(float(\"%0.2f\"%metrics.v_measure_score(labelsTrue,bestLabelsPredInAllGenerations[bestChromosomeInAllGenerations]))))\n",
        "print(\"AMI: \" + str(float(\"%0.2f\"%metrics.adjusted_mutual_info_score(labelsTrue,bestLabelsPredInAllGenerations[bestChromosomeInAllGenerations]))))\n",
        "print(\"ARI: \" + str(float(\"%0.2f\"%metrics.adjusted_rand_score(labelsTrue,bestLabelsPredInAllGenerations[bestChromosomeInAllGenerations]))))\n",
        "  "
      ],
      "execution_count": null,
      "outputs": [
        {
          "output_type": "stream",
          "text": [
            "HS: 0.85\n",
            "CS: 0.81\n",
            "VM: 0.83\n",
            "AMI: 0.83\n",
            "ARI: 0.66\n"
          ],
          "name": "stdout"
        }
      ]
    },
    {
      "cell_type": "code",
      "metadata": {
        "id": "XJjcfIXRn1hW",
        "outputId": "db6b28bd-d875-40d4-c650-5d8e417bfaa3",
        "colab": {
          "base_uri": "https://localhost:8080/",
          "height": 313
        }
      },
      "source": [
        "# plot fitness progression\n",
        "allGenerations = [x+1 for x in range(nGenerations)]\n",
        "plt.plot(allGenerations, allBestFitness)\n",
        "plt.title(filename[:-4])\n",
        "plt.xlabel('Generations')\n",
        "plt.ylabel('Fitness')\n",
        "plt.grid()\n",
        "plt.show()\n",
        "plt.clf()"
      ],
      "execution_count": null,
      "outputs": [
        {
          "output_type": "display_data",
          "data": {
            "image/png": "[encoded data removed]",
            "text/plain": [
              "<Figure size 432x288 with 1 Axes>"
            ]
          },
          "metadata": {
            "tags": [],
            "needs_background": "light"
          }
        },
        {
          "output_type": "display_data",
          "data": {
            "text/plain": [
              "<Figure size 432x288 with 0 Axes>"
            ]
          },
          "metadata": {
            "tags": []
          }
        }
      ]
    },
    {
      "cell_type": "markdown",
      "metadata": {
        "id": "dRUYaf0h-Fh2"
      },
      "source": [
        "<h2>Citing EvoNP</h2>\n",
        "Qaddoura, R., Faris, H. & Aljarah, I. An efficient evolutionary algorithm with a nearest neighbor search technique for clustering analysis. J Ambient Intell Human Comput (2020). https://doi.org/10.1007/s12652-020-02570-2"
      ]
    }
  ]
}